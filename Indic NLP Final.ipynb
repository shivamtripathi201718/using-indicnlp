{
 "cells": [
  {
   "cell_type": "markdown",
   "metadata": {},
   "source": [
    "# Using Indic NLP \n",
    "Pre-requisites\n",
    "\n",
    "   1 Python 3.x \n",
    "   2 Morfessor 2.0 Python Library\n",
    "   3 Indic NLP Resources\n",
    "    (As from Official documents)\n",
    "    Note: You also need to have pandas installed"
   ]
  },
  {
   "cell_type": "markdown",
   "metadata": {},
   "source": [
    "Next two lines I have downloaded :\n",
    "1: Indic NLP Library(from github)\n",
    "2: Indic NLP Resources(from github)\n",
    "3: Morfessor 2.0 Python Library\n",
    "Set the path accordingly"
   ]
  },
  {
   "cell_type": "code",
   "execution_count": null,
   "metadata": {},
   "outputs": [],
   "source": [
    "INDIC_NLP_LIB_HOME=\"/home/shivam/Desktop/indic_nlp_library-master\"\n"
   ]
  },
  {
   "cell_type": "code",
   "execution_count": 2,
   "metadata": {},
   "outputs": [],
   "source": [
    "INDIC_NLP_RESOURCES=\"/home/shivam/Desktop/indic_nlp_resources-master\""
   ]
  },
  {
   "cell_type": "code",
   "execution_count": 3,
   "metadata": {},
   "outputs": [],
   "source": [
    "import sys"
   ]
  },
  {
   "cell_type": "code",
   "execution_count": 4,
   "metadata": {},
   "outputs": [],
   "source": [
    "sys.path.append('{}/src'.format(INDIC_NLP_LIB_HOME))"
   ]
  },
  {
   "cell_type": "code",
   "execution_count": 5,
   "metadata": {},
   "outputs": [],
   "source": [
    "from indicnlp import common"
   ]
  },
  {
   "cell_type": "code",
   "execution_count": 6,
   "metadata": {},
   "outputs": [],
   "source": [
    "common.set_resources_path(INDIC_NLP_RESOURCES)"
   ]
  },
  {
   "cell_type": "code",
   "execution_count": 7,
   "metadata": {},
   "outputs": [],
   "source": [
    "from indicnlp import loader\n"
   ]
  },
  {
   "cell_type": "code",
   "execution_count": 8,
   "metadata": {},
   "outputs": [
    {
     "name": "stderr",
     "output_type": "stream",
     "text": [
      "/home/shivam/Desktop/indic_nlp_library-master/src/indicnlp/script/indic_scripts.py:116: FutureWarning: Method .as_matrix will be removed in a future version. Use .values instead.\n",
      "  ALL_PHONETIC_VECTORS= ALL_PHONETIC_DATA.ix[:,PHONETIC_VECTOR_START_OFFSET:].as_matrix()\n",
      "/home/shivam/Desktop/indic_nlp_library-master/src/indicnlp/script/indic_scripts.py:117: FutureWarning: Method .as_matrix will be removed in a future version. Use .values instead.\n",
      "  TAMIL_PHONETIC_VECTORS=TAMIL_PHONETIC_DATA.ix[:,PHONETIC_VECTOR_START_OFFSET:].as_matrix()\n",
      "/home/shivam/Desktop/indic_nlp_library-master/src/indicnlp/script/english_script.py:113: FutureWarning: Method .as_matrix will be removed in a future version. Use .values instead.\n",
      "  ENGLISH_PHONETIC_VECTORS=ENGLISH_PHONETIC_DATA.ix[:,PHONETIC_VECTOR_START_OFFSET:].as_matrix()\n"
     ]
    }
   ],
   "source": [
    "loader.load()"
   ]
  },
  {
   "cell_type": "markdown",
   "metadata": {},
   "source": [
    "# Text Normalization "
   ]
  },
  {
   "cell_type": "code",
   "execution_count": 9,
   "metadata": {},
   "outputs": [],
   "source": [
    "from indicnlp.normalize.indic_normalize import IndicNormalizerFactory"
   ]
  },
  {
   "cell_type": "markdown",
   "metadata": {},
   "source": [
    "# \\u0958 = क़   \\u0915 = क    \\u093c = ़ (Nukta)\n",
    "so input_text= \"क़ क़\" (ek क nukta ke saath aur ek क ke baad nukta)\n",
    "instead of this input_text=\"\\u0958 \\u0915\\u093c\" we can also write input_text= \"क़ क़\"."
   ]
  },
  {
   "cell_type": "code",
   "execution_count": 10,
   "metadata": {},
   "outputs": [
    {
     "name": "stdout",
     "output_type": "stream",
     "text": [
      "क़ क़\n",
      "Elements of input text\n",
      "1 क़\n",
      "2  \n",
      "3 क\n",
      "4 ़\n",
      "Elements of output text\n",
      "1 क\n",
      "2 ़\n",
      "3  \n",
      "4 क\n",
      "5 ़\n",
      "क़ क़\n",
      "Length before normalization: 4\n",
      "Length after normalization: 5\n"
     ]
    }
   ],
   "source": [
    "input_text=\"\\u0958 \\u0915\\u093c\"\n",
    "remove_nuktas=False\n",
    "factory=IndicNormalizerFactory()\n",
    "normalizer=factory.get_normalizer(\"hi\",remove_nuktas)\n",
    "output_text=normalizer.normalize(input_text)\n",
    "print(input_text)\n",
    "print(\"Elements of input text\")\n",
    "j=1\n",
    "for c in input_text:\n",
    "    print(j,c)\n",
    "    j+=1\n",
    "\n",
    "print(\"Elements of output text\")\n",
    "j=1\n",
    "for c in output_text:\n",
    "    print(j,c)\n",
    "    j+=1\n",
    "print(output_text)\n",
    "\n",
    "\n",
    "print('Length before normalization: {}'.format(len(input_text)))\n",
    "print('Length after normalization: {}'.format(len(output_text)))"
   ]
  },
  {
   "cell_type": "markdown",
   "metadata": {},
   "source": [
    "# Script Conversion\n"
   ]
  },
  {
   "cell_type": "code",
   "execution_count": 31,
   "metadata": {},
   "outputs": [
    {
     "name": "stdout",
     "output_type": "stream",
     "text": [
      "मेरा नाम शिवम् है \n"
     ]
    }
   ],
   "source": [
    "from indicnlp.transliterate.unicode_transliterate import UnicodeIndicTransliterator\n",
    "input_text='मेरा नाम शिवम् है '\n",
    "print(UnicodeIndicTransliterator.transliterate(input_text,\"hi\",\"ur\"))"
   ]
  },
  {
   "cell_type": "markdown",
   "metadata": {},
   "source": [
    "# Romanization\n",
    "It follows ITRANS rules"
   ]
  },
  {
   "cell_type": "code",
   "execution_count": 12,
   "metadata": {},
   "outputs": [
    {
     "name": "stdout",
     "output_type": "stream",
     "text": [
      "raajasthaana\n"
     ]
    }
   ],
   "source": [
    "from indicnlp.transliterate.unicode_transliterate import ItransTransliterator\n",
    "\n",
    "input_text='राजस्थान'\n",
    "# input_text='ஆசிரியர்கள்'\n",
    "lang='hi'\n",
    "\n",
    "print(ItransTransliterator.to_itrans(input_text,lang))"
   ]
  },
  {
   "cell_type": "markdown",
   "metadata": {},
   "source": [
    "# Indicization (ITRANS to Indic Script)"
   ]
  },
  {
   "cell_type": "code",
   "execution_count": 24,
   "metadata": {},
   "outputs": [
    {
     "name": "stdout",
     "output_type": "stream",
     "text": [
      "षिवम् इस् अ गोओद् बोय्\n"
     ]
    }
   ],
   "source": [
    "from indicnlp.transliterate.unicode_transliterate import ItransTransliterator\n",
    "\n",
    "\n",
    "# input_text='rajasthAna'\n",
    "input_text='Shivam is a good boy'\n",
    "lang='hi'\n",
    "x=ItransTransliterator.from_itrans(input_text,lang)\n",
    "print(x)\n"
   ]
  },
  {
   "cell_type": "markdown",
   "metadata": {},
   "source": [
    "## With each script character, a phontic feature vector is associated, which encodes the phontic properties of the character.\n",
    "(only character possible)"
   ]
  },
  {
   "cell_type": "code",
   "execution_count": 14,
   "metadata": {},
   "outputs": [
    {
     "data": {
      "text/plain": [
       "array([0, 1, 0, 0, 0, 0, 0, 0, 0, 0, 0, 0, 0, 1, 0, 0, 0, 0, 0, 0, 0, 1,\n",
       "       0, 0, 1, 1, 0, 1, 0, 0, 0, 0, 0, 0, 0, 0, 0, 0])"
      ]
     },
     "execution_count": 14,
     "metadata": {},
     "output_type": "execute_result"
    }
   ],
   "source": [
    "from indicnlp.script import  indic_scripts as isc\n",
    "\n",
    "c='न'\n",
    "lang='hi'\n",
    "\n",
    "isc.get_phonetic_feature_vector(c,lang)"
   ]
  },
  {
   "cell_type": "code",
   "execution_count": 15,
   "metadata": {},
   "outputs": [
    {
     "name": "stdout",
     "output_type": "stream",
     "text": [
      "Is vowel?:  False\n",
      "Is consonant?:  True\n",
      "Is velar?:  True\n",
      "Is palatal?:  False\n",
      "Is aspirated?:  False\n",
      "Is unvoiced?:  True\n",
      "Is nasal?:  False\n"
     ]
    }
   ],
   "source": [
    "from indicnlp.langinfo import *\n",
    "\n",
    "c='क'\n",
    "lang='hi'\n",
    "\n",
    "print('Is vowel?:  {}'.format(is_vowel(c,lang)))\n",
    "print('Is consonant?:  {}'.format(is_consonant(c,lang)))\n",
    "print('Is velar?:  {}'.format(is_velar(c,lang)))\n",
    "print('Is palatal?:  {}'.format(is_palatal(c,lang)))\n",
    "print('Is aspirated?:  {}'.format(is_aspirated(c,lang)))\n",
    "print('Is unvoiced?:  {}'.format(is_unvoiced(c,lang)))\n",
    "print('Is nasal?:  {}'.format(is_nasal(c,lang)))"
   ]
  },
  {
   "cell_type": "markdown",
   "metadata": {},
   "source": [
    "# Phonetic Similarity"
   ]
  },
  {
   "cell_type": "code",
   "execution_count": 16,
   "metadata": {},
   "outputs": [
    {
     "name": "stdout",
     "output_type": "stream",
     "text": [
      "Similarity between क and ख\n",
      "0.8333319444467593\n",
      "\n",
      "Similarity between क and भ\n",
      "0.4999991666680556\n"
     ]
    }
   ],
   "source": [
    "from indicnlp.script import  indic_scripts as isc\n",
    "from indicnlp.script import  phonetic_sim as psim\n",
    "\n",
    "c1='क'\n",
    "c2='ख'\n",
    "c3='भ'\n",
    "lang='hi'\n",
    "\n",
    "print('Similarity between {} and {}'.format(c1,c2))\n",
    "print(psim.cosine(\n",
    "    isc.get_phonetic_feature_vector(c1,lang),\n",
    "    isc.get_phonetic_feature_vector(c2,lang)\n",
    "    ))\n",
    "\n",
    "print()\n",
    "\n",
    "print(u'Similarity between {} and {}'.format(c1,c3))\n",
    "print(psim.cosine(\n",
    "    isc.get_phonetic_feature_vector(c1,lang),\n",
    "    isc.get_phonetic_feature_vector(c3,lang)\n",
    "    ))\n",
    "\n"
   ]
  },
  {
   "cell_type": "markdown",
   "metadata": {},
   "source": [
    "# Orthographic Syllabification\n",
    "A variable-length consonant-vowel sequence, as a basic unit of translation between related languages which use abugida or alphabetic scripts"
   ]
  },
  {
   "cell_type": "code",
   "execution_count": 17,
   "metadata": {},
   "outputs": [
    {
     "name": "stdout",
     "output_type": "stream",
     "text": [
      "ज ग दी श च ंद्र\n",
      "है द रा बा द   में   बि र या नी   खा ना   है\n"
     ]
    }
   ],
   "source": [
    "from indicnlp.syllable import  syllabifier\n",
    "\n",
    "w='जगदीशचंद्र'\n",
    "lang='hi'\n",
    "\n",
    "print(' '.join(syllabifier.orthographic_syllabify(w,lang)))\n",
    "w='हैदराबाद में बिरयानी खाना है'\n",
    "print(' '.join(syllabifier.orthographic_syllabify(w,lang)))"
   ]
  },
  {
   "cell_type": "markdown",
   "metadata": {},
   "source": [
    "# Sentence Splitter"
   ]
  },
  {
   "cell_type": "code",
   "execution_count": 18,
   "metadata": {},
   "outputs": [
    {
     "name": "stdout",
     "output_type": "stream",
     "text": [
      "तो क्या विश्व कप 2019 में मैच का बॉस टॉस है?\n",
      "यानी मैच में हार-जीत में टॉस की भूमिका अहम है?\n",
      "आप ऐसा सोच सकते हैं।\n",
      "विश्वकप के अपने-अपने पहले मैच में बुरी तरह हारने वाली एशिया की दो टीमों पाकिस्तान और श्रीलंका के कप्तान ने हालांकि अपने हार के पीछे टॉस की दलील तो नहीं दी, लेकिन यह जरूर कहा था कि वह एक अहम टॉस हार गए थे।\n"
     ]
    }
   ],
   "source": [
    "from indicnlp.tokenize import sentence_tokenize\n",
    "\n",
    "indic_string='तो क्या विश्व कप 2019 में मैच का बॉस टॉस है? यानी मैच में हार-जीत में टॉस की भूमिका अहम है? आप ऐसा सोच सकते हैं। विश्वकप के अपने-अपने पहले मैच में बुरी तरह हारने वाली एशिया की दो टीमों पाकिस्तान और श्रीलंका के कप्तान ने हालांकि अपने हार के पीछे टॉस की दलील तो नहीं दी, लेकिन यह जरूर कहा था कि वह एक अहम टॉस हार गए थे।'\n",
    "sentences=sentence_tokenize.sentence_split(indic_string, lang='hi')\n",
    "for t in sentences:\n",
    "    print(t)"
   ]
  },
  {
   "cell_type": "markdown",
   "metadata": {},
   "source": [
    "# Tokenize"
   ]
  },
  {
   "cell_type": "code",
   "execution_count": 32,
   "metadata": {},
   "outputs": [
    {
     "name": "stdout",
     "output_type": "stream",
     "text": [
      "Input String: शिवम् एक, अच्छा लड़का है।\n",
      "Tokens: \n",
      "शिवम्\n",
      "एक\n",
      ",\n",
      "अच्छा\n",
      "लड़का\n",
      "है\n",
      "।\n"
     ]
    }
   ],
   "source": [
    "from indicnlp.tokenize import indic_tokenize  \n",
    "\n",
    "indic_string='शिवम् एक, अच्छा लड़का है।'\n",
    "\n",
    "print('Input String: {}'.format(indic_string))\n",
    "print('Tokens: ')\n",
    "for t in indic_tokenize.trivial_tokenize(indic_string): \n",
    "    print(t)"
   ]
  },
  {
   "cell_type": "markdown",
   "metadata": {},
   "source": [
    "# De-tokenization"
   ]
  },
  {
   "cell_type": "code",
   "execution_count": 20,
   "metadata": {},
   "outputs": [
    {
     "name": "stdout",
     "output_type": "stream",
     "text": [
      "Input String: \" सुनो , कुछ आवाज़ आ रही है . \" , उसने कहा । \n",
      "Detokenized String: \"सुनो, कुछ आवाज़ आ रही है.\", उसने कहा। \n"
     ]
    }
   ],
   "source": [
    "from indicnlp.tokenize import indic_detokenize  \n",
    "indic_string='\" सुनो , कुछ आवाज़ आ रही है . \" , उसने कहा । '\n",
    "\n",
    "print('Input String: {}'.format(indic_string))\n",
    "print('Detokenized String: {}'.format(indic_detokenize.trivial_detokenize(indic_string,lang='hi')))"
   ]
  },
  {
   "cell_type": "markdown",
   "metadata": {},
   "source": [
    "# Transliterator"
   ]
  },
  {
   "cell_type": "code",
   "execution_count": 21,
   "metadata": {},
   "outputs": [
    {
     "data": {
      "text/plain": [
       "'एसबीआई'"
      ]
     },
     "execution_count": 21,
     "metadata": {},
     "output_type": "execute_result"
    }
   ],
   "source": [
    "from indicnlp.transliterate import acronym_transliterator\n",
    "\n",
    "ack_transliterator=acronym_transliterator.LatinToIndicAcronymTransliterator()\n",
    "ack_transliterator.transliterate('SBI',lang='hi')"
   ]
  },
  {
   "cell_type": "code",
   "execution_count": 35,
   "metadata": {},
   "outputs": [
    {
     "data": {
      "text/plain": [
       "{'en': ['yahAँ saba achChA hai apanA batAye']}"
      ]
     },
     "execution_count": 35,
     "metadata": {},
     "output_type": "execute_result"
    }
   ],
   "source": [
    "import json\n",
    "import requests\n",
    "from urllib.parse import  quote\n",
    "\n",
    "# text=quote('manish, joe')\n",
    "text=quote('यहाँ सब अच्छा है अपना बताये ')\n",
    "url='http://www.cfilt.iitb.ac.in/indicnlpweb/indicnlpws/transliterate_bulk/hi/en/{}/rule'.format(text)\n",
    "# print(url)\n",
    "response = requests.get(url)\n",
    "response.json()"
   ]
  },
  {
   "cell_type": "code",
   "execution_count": null,
   "metadata": {},
   "outputs": [],
   "source": []
  }
 ],
 "metadata": {
  "kernelspec": {
   "display_name": "Python 3",
   "language": "python",
   "name": "python3"
  },
  "language_info": {
   "codemirror_mode": {
    "name": "ipython",
    "version": 3
   },
   "file_extension": ".py",
   "mimetype": "text/x-python",
   "name": "python",
   "nbconvert_exporter": "python",
   "pygments_lexer": "ipython3",
   "version": "3.6.8"
  }
 },
 "nbformat": 4,
 "nbformat_minor": 2
}
